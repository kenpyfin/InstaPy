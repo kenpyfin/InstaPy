{
 "cells": [
  {
   "cell_type": "code",
   "execution_count": 9,
   "id": "f01f5d78",
   "metadata": {},
   "outputs": [],
   "source": [
    "import random\n",
    "from instapy import InstaPy\n",
    "from instapy import smart_run\n",
    "from utilities import *\n",
    "from datetime import datetime,timedelta\n",
    "\n",
    "import os\n",
    "from instapy import file_manager\n",
    "import numpy as np\n"
   ]
  },
  {
   "cell_type": "code",
   "execution_count": 12,
   "id": "686a584d-9821-4190-a406-fcb12da026a1",
   "metadata": {},
   "outputs": [],
   "source": [
    "home_dir = os.getcwd()\n",
    "\n",
    "gateway = home_dir + \"/record-Copy1.txt\""
   ]
  },
  {
   "cell_type": "code",
   "execution_count": 10,
   "id": "78574cd6-b139-43c1-b699-266c0cfe45b8",
   "metadata": {},
   "outputs": [],
   "source": [
    "from clarifai.rest import Workflow"
   ]
  },
  {
   "cell_type": "code",
   "execution_count": 8,
   "id": "83009ce5",
   "metadata": {},
   "outputs": [
    {
     "data": {
      "text/plain": [
       "array([1, 1])"
      ]
     },
     "execution_count": 8,
     "metadata": {},
     "output_type": "execute_result"
    }
   ],
   "source": [
    "np.random.choice([1,2,3],2)"
   ]
  },
  {
   "cell_type": "code",
   "execution_count": 3,
   "id": "17fe0404",
   "metadata": {},
   "outputs": [
    {
     "data": {
      "text/plain": [
       "'#travelcouples #travelcommunity #passionpassport #travelingcouple #backpackerlife #travelguide #travelbloggers #travelblog #letsgoeverywhere #travelislife #stayandwander #beautifuldestinations #moodygrams #ourplanetdaily #travelyoga #travelgram #lonelyplanet #igtravel #instapassport #travelling #instatraveling #travelingram #mytravelgram #skyporn #traveler #sunrise #sunsetlovers #travelblog #sunset_pics #visiting #ilovetravel #photographyoftheday #sunsetphotography #explorenature #landscapeporn #exploring_shotz #landscapehunter #colors_of_day #earthfocus #ig_shotz #ig_nature #discoverearth #thegreatoutdoors #life #写真好きな人と繋がりたい'"
      ]
     },
     "execution_count": 3,
     "metadata": {},
     "output_type": "execute_result"
    }
   ],
   "source": [
    "\" \".join([\"#\"+i  for i in ['travelcouples', 'travelcommunity', 'passionpassport',\n",
    "                'travelingcouple',\n",
    "                'backpackerlife', 'travelguide', 'travelbloggers',\n",
    "                'travelblog', 'letsgoeverywhere',\n",
    "                'travelislife', 'stayandwander', 'beautifuldestinations',\n",
    "                'moodygrams',\n",
    "                'ourplanetdaily', 'travelyoga', 'travelgram',\n",
    "                'lonelyplanet',\n",
    "                'igtravel', 'instapassport', 'travelling', 'instatraveling',\n",
    "                'travelingram',\n",
    "                'mytravelgram', 'skyporn', 'traveler', 'sunrise',\n",
    "                'sunsetlovers', 'travelblog',\n",
    "                'sunset_pics', 'visiting', 'ilovetravel',\n",
    "                'photographyoftheday', 'sunsetphotography',\n",
    "                'explorenature', 'landscapeporn', 'exploring_shotz',\n",
    "                'landscapehunter', 'colors_of_day',\n",
    "                'earthfocus', 'ig_shotz', 'ig_nature', 'discoverearth',\n",
    "                'thegreatoutdoors',\"life\",\"写真好きな人と繋がりたい\"]])"
   ]
  },
  {
   "cell_type": "code",
   "execution_count": 2,
   "id": "323ff819",
   "metadata": {},
   "outputs": [
    {
     "name": "stdout",
     "output_type": "stream",
     "text": [
      "InstaPy Version: 0.6.15\n",
      " ._.  ._.  ._.  ._.  ._.  ._.  ._.  ._. \n",
      "Workspace in use: \"/home/ken/InstaPy\"\n"
     ]
    },
    {
     "name": "stderr",
     "output_type": "stream",
     "text": [
      "INFO [2021-12-08 18:19:03] [kx_imaginary]  Session started!\n"
     ]
    },
    {
     "name": "stdout",
     "output_type": "stream",
     "text": [
      "OOOOOOOOOOOOOOOOOOOOOOOOOOOOOOOOOOOOOOOOOOOOOOOOOOOOOO\n",
      "oooooooooooooooooooooooooooooooooooooooooooooooooooooo\n"
     ]
    }
   ],
   "source": [
    "# get a session!\n",
    "user_name = 'kx_imaginary'\n",
    "session = InstaPy(username=user_name, password=readgateway(2), headless_browser=True)"
   ]
  },
  {
   "cell_type": "code",
   "execution_count": 15,
   "id": "e0f1a793",
   "metadata": {},
   "outputs": [
    {
     "data": {
      "text/plain": [
       "12"
      ]
     },
     "execution_count": 15,
     "metadata": {},
     "output_type": "execute_result"
    }
   ],
   "source": [
    "datetime.now().hour"
   ]
  },
  {
   "cell_type": "code",
   "execution_count": null,
   "id": "417f83c2",
   "metadata": {},
   "outputs": [],
   "source": []
  },
  {
   "cell_type": "code",
   "execution_count": 4,
   "id": "2f080db2",
   "metadata": {},
   "outputs": [
    {
     "name": "stderr",
     "output_type": "stream",
     "text": [
      "INFO [2021-12-07 14:55:30] [ken_c_c_photography]  Workspace in use: \"/home/ken/InstaPy\"\n"
     ]
    },
    {
     "name": "stdout",
     "output_type": "stream",
     "text": [
      " ._.  ._.  ._.  ._.  ._.  ._.  ._.  ._.  ._.  ._.  ._.  ._.  ._.  ._.  ._.  ._.  ._.  ._. \n"
     ]
    }
   ],
   "source": [
    "wpath = file_manager.get_workspace()\n",
    "\n",
    "wpath[\"path\"]\n",
    "\n",
    "cookie_file = \"{}/logs/{}/{}\".format(wpath[\"path\"],user_name,user_name + \"_cookie.pkl\")\n",
    "\n",
    "cookie_file\n",
    "\n",
    "os.remove(cookie_file)"
   ]
  },
  {
   "cell_type": "code",
   "execution_count": 4,
   "id": "10512506",
   "metadata": {},
   "outputs": [
    {
     "name": "stderr",
     "output_type": "stream",
     "text": [
      "INFO [2021-12-08 18:19:14] [kx_imaginary]  -- Connection Checklist [1/2] (Internet Connection Status)\n",
      "INFO [2021-12-08 18:19:15] [kx_imaginary]  - Internet Connection Status: ok\n",
      "INFO [2021-12-08 18:19:15] [kx_imaginary]  - Current IP is \"67.169.19.41\" and it's from \"United States/US\"\n",
      "INFO [2021-12-08 18:19:15] [kx_imaginary]  -- Connection Checklist [2/2] (Hide Selenium Extension)\n",
      "INFO [2021-12-08 18:19:15] [kx_imaginary]  - window.navigator.webdriver response: True\n",
      "WARNING [2021-12-08 18:19:15] [kx_imaginary]  - Hide Selenium Extension: error\n",
      "INFO [2021-12-08 18:19:18] [kx_imaginary]  - Cookie file not found, creating cookie...\n",
      "INFO [2021-12-08 18:19:41] [kx_imaginary]  - Do not save Login Info by now...\n",
      "INFO [2021-12-08 18:19:53] [kx_imaginary]  Logged in successfully!\n",
      "INFO [2021-12-08 18:19:53] [kx_imaginary]  Saving account progress...\n"
     ]
    },
    {
     "name": "stdout",
     "output_type": "stream",
     "text": [
      "..................................................................\n",
      "''''''''''''''''''''''''''''''''''''''''''''''''''''''''''''''''''\n"
     ]
    },
    {
     "data": {
      "text/plain": [
       "<instapy.instapy.InstaPy at 0x7fde9958f150>"
      ]
     },
     "execution_count": 4,
     "metadata": {},
     "output_type": "execute_result"
    }
   ],
   "source": [
    "session.login()"
   ]
  },
  {
   "cell_type": "code",
   "execution_count": 5,
   "id": "479d8768",
   "metadata": {},
   "outputs": [
    {
     "name": "stderr",
     "output_type": "stream",
     "text": [
      "INFO [2021-12-08 18:20:01] [kx_imaginary]  Getting active users who liked the latest 2 posts:\n",
      " ~collecting the usernames from posts with the boundary of 500\n",
      "\n",
      "INFO [2021-12-08 18:20:28] [kx_imaginary]  Failed to get likers count on your post 1\n",
      "INFO [2021-12-08 18:20:53] [kx_imaginary]  Video found, try next post until we run out of posts\n"
     ]
    },
    {
     "name": "stdout",
     "output_type": "stream",
     "text": [
      "  3/3 [===================================+]  100% |> Elapsed: 1.58 seconds         |> ETA: 0.0 seconds          \n",
      "\n",
      "  3/3 [===================================+]  100% |> Elapsed: 3.16 seconds         |> ETA: 0.0 seconds          \n",
      "\n",
      "  3/3 [===================================+]  100% |> Elapsed: 4.74 seconds         |> ETA: 0.0 seconds          \n",
      "\n"
     ]
    },
    {
     "name": "stderr",
     "output_type": "stream",
     "text": [
      "INFO [2021-12-08 18:21:04] [kx_imaginary]  Post 2 | Likers: found 3, catched 3\n",
      "\n",
      "\n",
      "INFO [2021-12-08 18:21:05] [kx_imaginary]  Gathered total of 3 unique active followers from the latest 2 posts in 0 minutes and 6 seconds\n",
      "INFO [2021-12-08 18:21:05] [kx_imaginary]  Tag [1/10]\n",
      "INFO [2021-12-08 18:21:05] [kx_imaginary]  --> b'ourplanetdaily'\n",
      "INFO [2021-12-08 18:21:16] [kx_imaginary]  desired amount: 19  |  top posts [disabled]: 9  |  possible posts: 13053442\n",
      "INFO [2021-12-08 18:21:20] [kx_imaginary]  Verifying media type: ['Photo', 'Carousel']\n",
      "INFO [2021-12-08 18:21:20] [kx_imaginary]  Found media type: Photo\n",
      "INFO [2021-12-08 18:21:20] [kx_imaginary]  Verifying media type: ['Photo', 'Carousel']\n",
      "INFO [2021-12-08 18:21:20] [kx_imaginary]  Found media type: Photo\n",
      "INFO [2021-12-08 18:21:20] [kx_imaginary]  Verifying media type: ['Photo', 'Carousel']\n",
      "INFO [2021-12-08 18:21:20] [kx_imaginary]  Found media type: Photo\n",
      "INFO [2021-12-08 18:21:20] [kx_imaginary]  Verifying media type: ['Photo', 'Carousel']\n",
      "INFO [2021-12-08 18:21:20] [kx_imaginary]  Found media type: Photo\n",
      "INFO [2021-12-08 18:21:20] [kx_imaginary]  Verifying media type: ['Photo', 'Carousel']\n",
      "INFO [2021-12-08 18:21:20] [kx_imaginary]  Found media type: Carousel - Video - IGTV\n",
      "INFO [2021-12-08 18:21:20] [kx_imaginary]  Post category: Carousel\n",
      "INFO [2021-12-08 18:21:20] [kx_imaginary]  Verifying media type: ['Photo', 'Carousel']\n",
      "INFO [2021-12-08 18:21:20] [kx_imaginary]  Found media type: Photo\n",
      "INFO [2021-12-08 18:21:20] [kx_imaginary]  Verifying media type: ['Photo', 'Carousel']\n",
      "INFO [2021-12-08 18:21:20] [kx_imaginary]  Found media type: Photo\n",
      "INFO [2021-12-08 18:21:20] [kx_imaginary]  Verifying media type: ['Photo', 'Carousel']\n",
      "INFO [2021-12-08 18:21:20] [kx_imaginary]  Found media type: Photo\n",
      "INFO [2021-12-08 18:21:20] [kx_imaginary]  Verifying media type: ['Photo', 'Carousel']\n",
      "INFO [2021-12-08 18:21:20] [kx_imaginary]  Found media type: Photo\n",
      "INFO [2021-12-08 18:21:20] [kx_imaginary]  Verifying media type: ['Photo', 'Carousel']\n",
      "INFO [2021-12-08 18:21:20] [kx_imaginary]  Found media type: Photo\n",
      "INFO [2021-12-08 18:21:20] [kx_imaginary]  Verifying media type: ['Photo', 'Carousel']\n",
      "INFO [2021-12-08 18:21:20] [kx_imaginary]  Found media type: Photo\n",
      "INFO [2021-12-08 18:21:20] [kx_imaginary]  Verifying media type: ['Photo', 'Carousel']\n",
      "INFO [2021-12-08 18:21:20] [kx_imaginary]  Found media type: Photo\n",
      "INFO [2021-12-08 18:21:20] [kx_imaginary]  Verifying media type: ['Photo', 'Carousel']\n",
      "INFO [2021-12-08 18:21:20] [kx_imaginary]  Found media type: Photo\n",
      "INFO [2021-12-08 18:21:20] [kx_imaginary]  Verifying media type: ['Photo', 'Carousel']\n",
      "INFO [2021-12-08 18:21:20] [kx_imaginary]  Found media type: Photo\n",
      "INFO [2021-12-08 18:21:20] [kx_imaginary]  Verifying media type: ['Photo', 'Carousel']\n",
      "INFO [2021-12-08 18:21:20] [kx_imaginary]  Found media type: Carousel - Video - IGTV\n",
      "INFO [2021-12-08 18:21:20] [kx_imaginary]  Post category: Carousel\n",
      "INFO [2021-12-08 18:21:20] [kx_imaginary]  Verifying media type: ['Photo', 'Carousel']\n",
      "INFO [2021-12-08 18:21:20] [kx_imaginary]  Found media type: Photo\n",
      "INFO [2021-12-08 18:21:20] [kx_imaginary]  Verifying media type: ['Photo', 'Carousel']\n",
      "INFO [2021-12-08 18:21:20] [kx_imaginary]  Found media type: Photo\n",
      "INFO [2021-12-08 18:21:20] [kx_imaginary]  Verifying media type: ['Photo', 'Carousel']\n",
      "INFO [2021-12-08 18:21:20] [kx_imaginary]  Found media type: Photo\n",
      "INFO [2021-12-08 18:21:20] [kx_imaginary]  Verifying media type: ['Photo', 'Carousel']\n",
      "INFO [2021-12-08 18:21:20] [kx_imaginary]  Found media type: Photo\n",
      "INFO [2021-12-08 18:21:20] [kx_imaginary]  Verifying media type: ['Photo', 'Carousel']\n",
      "INFO [2021-12-08 18:21:20] [kx_imaginary]  Found media type: Photo\n",
      "INFO [2021-12-08 18:21:20] [kx_imaginary]  Verifying media type: ['Photo', 'Carousel']\n",
      "INFO [2021-12-08 18:21:20] [kx_imaginary]  Found media type: Photo\n",
      "INFO [2021-12-08 18:21:20] [kx_imaginary]  Verifying media type: ['Photo', 'Carousel']\n",
      "INFO [2021-12-08 18:21:20] [kx_imaginary]  Found media type: Photo\n",
      "INFO [2021-12-08 18:21:20] [kx_imaginary]  Verifying media type: ['Photo', 'Carousel']\n",
      "INFO [2021-12-08 18:21:20] [kx_imaginary]  Found media type: Carousel - Video - IGTV\n",
      "INFO [2021-12-08 18:21:20] [kx_imaginary]  Post category: Carousel\n",
      "INFO [2021-12-08 18:21:20] [kx_imaginary]  Verifying media type: ['Photo', 'Carousel']\n",
      "INFO [2021-12-08 18:21:20] [kx_imaginary]  Found media type: Photo\n",
      "INFO [2021-12-08 18:21:20] [kx_imaginary]  Verifying media type: ['Photo', 'Carousel']\n",
      "INFO [2021-12-08 18:21:20] [kx_imaginary]  Found media type: Photo\n",
      "INFO [2021-12-08 18:21:20] [kx_imaginary]  Verifying media type: ['Photo', 'Carousel']\n",
      "INFO [2021-12-08 18:21:20] [kx_imaginary]  Found media type: Photo\n",
      "INFO [2021-12-08 18:21:20] [kx_imaginary]  Verifying media type: ['Photo', 'Carousel']\n",
      "INFO [2021-12-08 18:21:20] [kx_imaginary]  Found media type: Photo\n",
      "INFO [2021-12-08 18:21:20] [kx_imaginary]  Verifying media type: ['Photo', 'Carousel']\n",
      "INFO [2021-12-08 18:21:20] [kx_imaginary]  Found media type: Photo\n",
      "INFO [2021-12-08 18:21:20] [kx_imaginary]  Verifying media type: ['Photo', 'Carousel']\n",
      "INFO [2021-12-08 18:21:20] [kx_imaginary]  Found media type: Photo\n",
      "INFO [2021-12-08 18:21:20] [kx_imaginary]  Verifying media type: ['Photo', 'Carousel']\n",
      "INFO [2021-12-08 18:21:20] [kx_imaginary]  Found media type: Carousel - Video - IGTV\n",
      "INFO [2021-12-08 18:21:20] [kx_imaginary]  Post category: Carousel\n",
      "INFO [2021-12-08 18:21:20] [kx_imaginary]  Verifying media type: ['Photo', 'Carousel']\n",
      "INFO [2021-12-08 18:21:20] [kx_imaginary]  Found media type: Photo\n",
      "INFO [2021-12-08 18:21:20] [kx_imaginary]  Verifying media type: ['Photo', 'Carousel']\n",
      "INFO [2021-12-08 18:21:20] [kx_imaginary]  Found media type: Photo\n",
      "INFO [2021-12-08 18:21:20] [kx_imaginary]  Verifying media type: ['Photo', 'Carousel']\n",
      "INFO [2021-12-08 18:21:20] [kx_imaginary]  Found media type: Photo\n",
      "INFO [2021-12-08 18:21:20] [kx_imaginary]  Links retrieved:: [1/https://www.instagram.com/p/CXGD3R1DFiD/]\n",
      "INFO [2021-12-08 18:21:20] [kx_imaginary]  Links retrieved:: [2/https://www.instagram.com/p/CXNMp4itojs/]\n",
      "INFO [2021-12-08 18:21:20] [kx_imaginary]  Links retrieved:: [3/https://www.instagram.com/p/CXJiOPRu_T2/]\n",
      "INFO [2021-12-08 18:21:20] [kx_imaginary]  Links retrieved:: [4/https://www.instagram.com/p/CXLgiyRK2dp/]\n",
      "INFO [2021-12-08 18:21:20] [kx_imaginary]  Links retrieved:: [5/https://www.instagram.com/p/CXG665QswCH/]\n",
      "INFO [2021-12-08 18:21:20] [kx_imaginary]  Links retrieved:: [6/https://www.instagram.com/p/CXPEfcJs3qZ/]\n",
      "INFO [2021-12-08 18:21:20] [kx_imaginary]  Links retrieved:: [7/https://www.instagram.com/p/CXOlq3MpYES/]\n",
      "INFO [2021-12-08 18:21:20] [kx_imaginary]  Links retrieved:: [8/https://www.instagram.com/p/CXMLR_kLjMc/]\n",
      "INFO [2021-12-08 18:21:20] [kx_imaginary]  Links retrieved:: [9/https://www.instagram.com/p/CXOvJuOow6o/]\n",
      "INFO [2021-12-08 18:21:20] [kx_imaginary]  Links retrieved:: [10/https://www.instagram.com/p/CXPsAORPLkr/]\n",
      "INFO [2021-12-08 18:21:20] [kx_imaginary]  Links retrieved:: [11/https://www.instagram.com/p/CXPsAHCl_X8/]\n",
      "INFO [2021-12-08 18:21:20] [kx_imaginary]  Links retrieved:: [12/https://www.instagram.com/p/CXPrv31IRCC/]\n",
      "INFO [2021-12-08 18:21:20] [kx_imaginary]  Links retrieved:: [13/https://www.instagram.com/p/CXPr467IvMt/]\n",
      "INFO [2021-12-08 18:21:20] [kx_imaginary]  Links retrieved:: [14/https://www.instagram.com/p/CXPryoxPdHu/]\n",
      "INFO [2021-12-08 18:21:20] [kx_imaginary]  Links retrieved:: [15/https://www.instagram.com/p/CXPrtiBr8hv/]\n",
      "INFO [2021-12-08 18:21:20] [kx_imaginary]  Links retrieved:: [16/https://www.instagram.com/p/CXPrcOTJ0-I/]\n",
      "INFO [2021-12-08 18:21:20] [kx_imaginary]  Links retrieved:: [17/https://www.instagram.com/p/CXPrp5Dtb5J/]\n",
      "INFO [2021-12-08 18:21:20] [kx_imaginary]  Links retrieved:: [18/https://www.instagram.com/p/CXPreGPDXlS/]\n",
      "INFO [2021-12-08 18:21:20] [kx_imaginary]  Links retrieved:: [19/https://www.instagram.com/p/CXPrTmZFI4g/]\n",
      "INFO [2021-12-08 18:21:20] [kx_imaginary]  Links retrieved:: [20/https://www.instagram.com/p/CXPrNfXJbo0/]\n",
      "INFO [2021-12-08 18:21:20] [kx_imaginary]  Links retrieved:: [21/https://www.instagram.com/p/CXPrURPj-c1/]\n",
      "INFO [2021-12-08 18:21:20] [kx_imaginary]  Links retrieved:: [22/https://www.instagram.com/p/CXPrR7BDgPj/]\n",
      "INFO [2021-12-08 18:21:20] [kx_imaginary]  Links retrieved:: [23/https://www.instagram.com/p/CXPrLmUMW3m/]\n",
      "INFO [2021-12-08 18:21:20] [kx_imaginary]  Links retrieved:: [24/https://www.instagram.com/p/CXPrYs2J-nx/]\n",
      "INFO [2021-12-08 18:21:20] [kx_imaginary]  Links retrieved:: [25/https://www.instagram.com/p/CXPrKDEhqQD/]\n",
      "INFO [2021-12-08 18:21:20] [kx_imaginary]  Links retrieved:: [26/https://www.instagram.com/p/CXPrD4Wsrhl/]\n",
      "INFO [2021-12-08 18:21:20] [kx_imaginary]  Links retrieved:: [27/https://www.instagram.com/p/CXPqs4KBNTK/]\n",
      "INFO [2021-12-08 18:21:20] [kx_imaginary]  Links retrieved:: [28/https://www.instagram.com/p/CXPqv0xJqp-/]\n",
      "INFO [2021-12-08 18:21:20] [kx_imaginary]  Links retrieved:: [29/https://www.instagram.com/p/CXPqfvBpNUR/]\n",
      "INFO [2021-12-08 18:21:20] [kx_imaginary]  Links retrieved:: [30/https://www.instagram.com/p/CXPqnE4IY8V/]\n",
      "INFO [2021-12-08 18:21:20] [kx_imaginary]  Links retrieved:: [31/https://www.instagram.com/p/CXPqrQCpZgf/]\n",
      "INFO [2021-12-08 18:21:20] [kx_imaginary]  Links retrieved:: [32/https://www.instagram.com/p/CXPqOXBOtKy/]\n",
      "INFO [2021-12-08 18:21:20] [kx_imaginary]  Links retrieved:: [33/https://www.instagram.com/p/CXPqTAcjdy_/]\n",
      "INFO [2021-12-08 18:21:25] [kx_imaginary]  Like# [1/19]\n",
      "INFO [2021-12-08 18:21:25] [kx_imaginary]  https://www.instagram.com/p/CXPsAORPLkr/\n",
      "INFO [2021-12-08 18:21:28] [kx_imaginary]  post_page: {'items': [{'taken_at': 1639016439, 'pk': 2724589828950505771, 'id': '2724589828950505771_50929505892', 'device_timestamp': 368077664695876, 'media_type': 1, 'code': 'CXPsAORPLkr', 'client_cache_key': 'MjcyNDU4OTgyODk1MDUwNTc3MQ==.2', 'filter_type': 0, 'is_unified_video': False, 'location': {'pk': 215619614, 'short_name': 'Kepler Track', 'facebook_places_id': 110923098958457, 'external_source': 'facebook_places', 'name': 'Kepler Track', 'address': '', 'city': '', 'has_viewer_saved': None, 'lng': 167.5756430626, 'lat': -45.4521532942, 'is_eligible_for_guides': True}, 'lat': -45.4521532942, 'lng': 167.5756430626, 'user': {'pk': 50929505892, 'username': 'mda.landscapes', 'full_name': '', 'is_private': False, 'profile_pic_url': 'https://scontent-sjc3-1.cdninstagram.com/v/t51.2885-19/s150x150/263489528_263507129148238_781369692810789341_n.jpg?_nc_ht=scontent-sjc3-1.cdninstagram.com&_nc_cat=110&_nc_ohc=2tMXW9EW5KcAX8JoeJO&edm=AABBvjUBAAAA&ccb=7-4&oh=3d4f5f162a28859a8f3702602d0f6358&oe=61B86472&_nc_sid=83d603', 'profile_pic_id': '2723236217502971894_50929505892', 'friendship_status': {'following': False, 'outgoing_request': False, 'is_bestie': False, 'is_restricted': False, 'is_feed_favorite': False}, 'is_verified': False, 'follow_friction_type': 0, 'has_anonymous_profile_picture': False, 'is_unpublished': False, 'is_favorite': False, 'latest_reel_media': 0, 'has_highlight_reels': False, 'account_badges': [], 'live_broadcast_id': None}, 'can_viewer_reshare': True, 'caption_is_edited': False, 'like_and_view_counts_disabled': False, 'featured_products_cta': None, 'commerciality_status': 'not_commercial', 'is_paid_partnership': False, 'is_visual_reply_commenter_notice_enabled': True, 'original_media_has_visual_reply_media': False, 'comment_likes_enabled': True, 'comment_threading_enabled': True, 'has_more_comments': False, 'max_num_visible_preview_comments': 2, 'preview_comments': [], 'comments': [], 'can_view_more_preview_comments': False, 'comment_count': 0, 'hide_view_all_comment_entrypoint': False, 'inline_composer_display_condition': 'impression_trigger', 'image_versions2': {'candidates': [{'width': 1440, 'height': 1800, 'url': 'https://scontent-sjc3-1.cdninstagram.com/v/t51.2885-15/e35/265180694_2970053763246360_7474441417153544350_n.webp.jpg?se=7&_nc_ht=scontent-sjc3-1.cdninstagram.com&_nc_cat=100&_nc_ohc=OAwRRDYKOrQAX8JWYVw&tn=bWUa9bEh8DrV5C0W&edm=AABBvjUBAAAA&ccb=7-4&oh=00_AT84odVjmUXLVpcGBS7LF13ty5p4uO5vKlI7FbeuNdlqyw&oe=61B76EAD&_nc_sid=83d603&ig_cache_key=MjcyNDU4OTgyODk1MDUwNTc3MQ%3D%3D.2-ccb7-4', 'scans_profile': 'e35'}, {'width': 1242, 'height': 1552, 'url': 'https://scontent-sjc3-1.cdninstagram.com/v/t51.2885-15/e35/p1242x1242/265180694_2970053763246360_7474441417153544350_n.webp.jpg?_nc_ht=scontent-sjc3-1.cdninstagram.com&_nc_cat=100&_nc_ohc=OAwRRDYKOrQAX8JWYVw&tn=bWUa9bEh8DrV5C0W&edm=AABBvjUBAAAA&ccb=7-4&oh=4363c4ad8d5f662f414093ce161c9a34&oe=61B90EA3&_nc_sid=83d603&ig_cache_key=MjcyNDU4OTgyODk1MDUwNTc3MQ%3D%3D.2-ccb7-4', 'scans_profile': 'e35'}, {'width': 1125, 'height': 1406, 'url': 'https://scontent-sjc3-1.cdninstagram.com/v/t51.2885-15/e35/p1125x1125/265180694_2970053763246360_7474441417153544350_n.webp.jpg?_nc_ht=scontent-sjc3-1.cdninstagram.com&_nc_cat=100&_nc_ohc=OAwRRDYKOrQAX8JWYVw&tn=bWUa9bEh8DrV5C0W&edm=AABBvjUBAAAA&ccb=7-4&oh=399b3d3844bb8bfea4896e9150ebe0a9&oe=61B7FA0B&_nc_sid=83d603&ig_cache_key=MjcyNDU4OTgyODk1MDUwNTc3MQ%3D%3D.2-ccb7-4', 'scans_profile': 'e35'}, {'width': 828, 'height': 1035, 'url': 'https://scontent-sjc3-1.cdninstagram.com/v/t51.2885-15/e35/p828x828/265180694_2970053763246360_7474441417153544350_n.webp.jpg?_nc_ht=scontent-sjc3-1.cdninstagram.com&_nc_cat=100&_nc_ohc=OAwRRDYKOrQAX8JWYVw&tn=bWUa9bEh8DrV5C0W&edm=AABBvjUBAAAA&ccb=7-4&oh=1dc98f6e23a39f247ad671c94104a097&oe=61B7BEC4&_nc_sid=83d603&ig_cache_key=MjcyNDU4OTgyODk1MDUwNTc3MQ%3D%3D.2-ccb7-4', 'scans_profile': 'e35'}, {'width': 1080, 'height': 1350, 'url': 'https://scontent-sjc3-1.cdninstagram.com/v/t51.2885-15/e35/p1080x1080/265180694_2970053763246360_7474441417153544350_n.webp.jpg?_nc_ht=scontent-sjc3-1.cdninstagram.com&_nc_cat=100&_nc_ohc=OAwRRDYKOrQAX8JWYVw&tn=bWUa9bEh8DrV5C0W&edm=AABBvjUBAAAA&ccb=7-4&oh=75f7eddd0885f715ef5848ac673e94e7&oe=61B8C8C6&_nc_sid=83d603&ig_cache_key=MjcyNDU4OTgyODk1MDUwNTc3MQ%3D%3D.2-ccb7-4', 'scans_profile': 'e35'}, {'width': 750, 'height': 938, 'url': 'https://scontent-sjc3-1.cdninstagram.com/v/t51.2885-15/sh0.08/e35/p750x750/265180694_2970053763246360_7474441417153544350_n.webp.jpg?_nc_ht=scontent-sjc3-1.cdninstagram.com&_nc_cat=100&_nc_ohc=OAwRRDYKOrQAX8JWYVw&tn=bWUa9bEh8DrV5C0W&edm=AABBvjUBAAAA&ccb=7-4&oh=ff79fde54a2b4cee1ea8a7265b96ab68&oe=61B7F9A2&_nc_sid=83d603&ig_cache_key=MjcyNDU4OTgyODk1MDUwNTc3MQ%3D%3D.2-ccb7-4', 'scans_profile': 'e35'}, {'width': 640, 'height': 800, 'url': 'https://scontent-sjc3-1.cdninstagram.com/v/t51.2885-15/sh0.08/e35/p640x640/265180694_2970053763246360_7474441417153544350_n.webp.jpg?_nc_ht=scontent-sjc3-1.cdninstagram.com&_nc_cat=100&_nc_ohc=OAwRRDYKOrQAX8JWYVw&tn=bWUa9bEh8DrV5C0W&edm=AABBvjUBAAAA&ccb=7-4&oh=dbe247ca3767ea4a7f8df7de538f5baf&oe=61B7E3A3&_nc_sid=83d603&ig_cache_key=MjcyNDU4OTgyODk1MDUwNTc3MQ%3D%3D.2-ccb7-4', 'scans_profile': 'e35'}, {'width': 480, 'height': 600, 'url': 'https://scontent-sjc3-1.cdninstagram.com/v/t51.2885-15/e35/p480x480/265180694_2970053763246360_7474441417153544350_n.webp.jpg?_nc_ht=scontent-sjc3-1.cdninstagram.com&_nc_cat=100&_nc_ohc=OAwRRDYKOrQAX8JWYVw&tn=bWUa9bEh8DrV5C0W&edm=AABBvjUBAAAA&ccb=7-4&oh=b57c9870d52b9c2c45f398fce1917a0d&oe=61B7E2E8&_nc_sid=83d603&ig_cache_key=MjcyNDU4OTgyODk1MDUwNTc3MQ%3D%3D.2-ccb7-4', 'scans_profile': 'e35'}, {'width': 320, 'height': 400, 'url': 'https://scontent-sjc3-1.cdninstagram.com/v/t51.2885-15/e35/p320x320/265180694_2970053763246360_7474441417153544350_n.webp.jpg?_nc_ht=scontent-sjc3-1.cdninstagram.com&_nc_cat=100&_nc_ohc=OAwRRDYKOrQAX8JWYVw&tn=bWUa9bEh8DrV5C0W&edm=AABBvjUBAAAA&ccb=7-4&oh=3c76d7d533fc8a8fdaeeea7e40aa5719&oe=61B8D08D&_nc_sid=83d603&ig_cache_key=MjcyNDU4OTgyODk1MDUwNTc3MQ%3D%3D.2-ccb7-4', 'scans_profile': 'e35'}, {'width': 240, 'height': 300, 'url': 'https://scontent-sjc3-1.cdninstagram.com/v/t51.2885-15/e35/p240x240/265180694_2970053763246360_7474441417153544350_n.webp.jpg?_nc_ht=scontent-sjc3-1.cdninstagram.com&_nc_cat=100&_nc_ohc=OAwRRDYKOrQAX8JWYVw&tn=bWUa9bEh8DrV5C0W&edm=AABBvjUBAAAA&ccb=7-4&oh=38ffd710db503468af3f68085a82267b&oe=61B80F09&_nc_sid=83d603&ig_cache_key=MjcyNDU4OTgyODk1MDUwNTc3MQ%3D%3D.2-ccb7-4', 'scans_profile': 'e35'}, {'width': 1080, 'height': 1080, 'url': 'https://scontent-sjc3-1.cdninstagram.com/v/t51.2885-15/e35/c0.180.1440.1440a/s1080x1080/265180694_2970053763246360_7474441417153544350_n.webp.jpg?_nc_ht=scontent-sjc3-1.cdninstagram.com&_nc_cat=100&_nc_ohc=OAwRRDYKOrQAX8JWYVw&tn=bWUa9bEh8DrV5C0W&edm=AABBvjUBAAAA&ccb=7-4&oh=0a2109cb110e31a6d08db088218ae97b&oe=61B87B85&_nc_sid=83d603&ig_cache_key=MjcyNDU4OTgyODk1MDUwNTc3MQ%3D%3D.2-ccb7-4', 'scans_profile': 'e35'}, {'width': 750, 'height': 750, 'url': 'https://scontent-sjc3-1.cdninstagram.com/v/t51.2885-15/sh0.08/e35/c0.180.1440.1440a/s750x750/265180694_2970053763246360_7474441417153544350_n.webp.jpg?_nc_ht=scontent-sjc3-1.cdninstagram.com&_nc_cat=100&_nc_ohc=OAwRRDYKOrQAX8JWYVw&tn=bWUa9bEh8DrV5C0W&edm=AABBvjUBAAAA&ccb=7-4&oh=ad78ae5705540530f8291684e6adfe60&oe=61B91ADB&_nc_sid=83d603&ig_cache_key=MjcyNDU4OTgyODk1MDUwNTc3MQ%3D%3D.2-ccb7-4', 'scans_profile': 'e35'}, {'width': 640, 'height': 640, 'url': 'https://scontent-sjc3-1.cdninstagram.com/v/t51.2885-15/sh0.08/e35/c0.180.1440.1440a/s640x640/265180694_2970053763246360_7474441417153544350_n.webp.jpg?_nc_ht=scontent-sjc3-1.cdninstagram.com&_nc_cat=100&_nc_ohc=OAwRRDYKOrQAX8JWYVw&tn=bWUa9bEh8DrV5C0W&edm=AABBvjUBAAAA&ccb=7-4&oh=77a3e0dd75369ee9dab3e2296da5d2c8&oe=61B85EDA&_nc_sid=83d603&ig_cache_key=MjcyNDU4OTgyODk1MDUwNTc3MQ%3D%3D.2-ccb7-4', 'scans_profile': 'e35'}, {'width': 480, 'height': 480, 'url': 'https://scontent-sjc3-1.cdninstagram.com/v/t51.2885-15/e35/c0.180.1440.1440a/s480x480/265180694_2970053763246360_7474441417153544350_n.webp.jpg?_nc_ht=scontent-sjc3-1.cdninstagram.com&_nc_cat=100&_nc_ohc=OAwRRDYKOrQAX8JWYVw&tn=bWUa9bEh8DrV5C0W&edm=AABBvjUBAAAA&ccb=7-4&oh=dc9b0a6f0b936f4dc44f5cb5542600f0&oe=61B824FF&_nc_sid=83d603&ig_cache_key=MjcyNDU4OTgyODk1MDUwNTc3MQ%3D%3D.2-ccb7-4', 'scans_profile': 'e35'}, {'width': 320, 'height': 320, 'url': 'https://scontent-sjc3-1.cdninstagram.com/v/t51.2885-15/e35/c0.180.1440.1440a/s320x320/265180694_2970053763246360_7474441417153544350_n.webp.jpg?_nc_ht=scontent-sjc3-1.cdninstagram.com&_nc_cat=100&_nc_ohc=OAwRRDYKOrQAX8JWYVw&tn=bWUa9bEh8DrV5C0W&edm=AABBvjUBAAAA&ccb=7-4&oh=6f68cae3f34dcdcb0e1b7cd05e853660&oe=61B83D16&_nc_sid=83d603&ig_cache_key=MjcyNDU4OTgyODk1MDUwNTc3MQ%3D%3D.2-ccb7-4', 'scans_profile': 'e35'}, {'width': 240, 'height': 240, 'url': 'https://scontent-sjc3-1.cdninstagram.com/v/t51.2885-15/e35/c0.180.1440.1440a/s240x240/265180694_2970053763246360_7474441417153544350_n.webp.jpg?_nc_ht=scontent-sjc3-1.cdninstagram.com&_nc_cat=100&_nc_ohc=OAwRRDYKOrQAX8JWYVw&tn=bWUa9bEh8DrV5C0W&edm=AABBvjUBAAAA&ccb=7-4&oh=9a324bc99d7f58252f472def4d697b66&oe=61B8BD12&_nc_sid=83d603&ig_cache_key=MjcyNDU4OTgyODk1MDUwNTc3MQ%3D%3D.2-ccb7-4', 'scans_profile': 'e35'}, {'width': 150, 'height': 150, 'url': 'https://scontent-sjc3-1.cdninstagram.com/v/t51.2885-15/e35/c0.180.1440.1440a/s150x150/265180694_2970053763246360_7474441417153544350_n.webp.jpg?_nc_ht=scontent-sjc3-1.cdninstagram.com&_nc_cat=100&_nc_ohc=OAwRRDYKOrQAX8JWYVw&tn=bWUa9bEh8DrV5C0W&edm=AABBvjUBAAAA&ccb=7-4&oh=90d697704afbcfad044a103c50e3bf1d&oe=61B8CFA2&_nc_sid=83d603&ig_cache_key=MjcyNDU4OTgyODk1MDUwNTc3MQ%3D%3D.2-ccb7-4', 'scans_profile': 'e35'}]}, 'original_width': 1440, 'original_height': 1800, 'like_count': 0, 'has_liked': False, 'top_likers': [], 'facepile_top_likers': [], 'likers': [], 'photo_of_you': False, 'usertags': {'in': [{'user': {'pk': 1398356432, 'username': 'fiordland.nz', 'full_name': 'Fiordland | New Zealand', 'is_private': False, 'profile_pic_url': 'https://scontent-sjc3-1.cdninstagram.com/v/t51.2885-19/s150x150/100902301_783068612223127_2213177702528057344_n.jpg?_nc_ht=scontent-sjc3-1.cdninstagram.com&_nc_cat=107&_nc_ohc=xTNlNA7dzxQAX-R0Quv&tn=bWUa9bEh8DrV5C0W&edm=AABBvjUBAAAA&ccb=7-4&oh=3dc655d1fbcf7ae4b25a4481741f9b4b&oe=61B7FBFA&_nc_sid=83d603', 'profile_pic_id': '2318011306900672310_1398356432', 'is_verified': False, 'follow_friction_type': -1}, 'position': [0.061342593, 0.98796296], 'start_time_in_video_in_sec': None, 'duration_in_video_in_sec': None}, {'user': {'pk': 1953160348, 'username': 'newzealandguide', 'full_name': 'New Zealand Guide', 'is_private': False, 'profile_pic_url': 'https://scontent-sjc3-1.cdninstagram.com/v/t51.2885-19/s150x150/205994018_826368551602600_4656813660548878301_n.jpg?_nc_ht=scontent-sjc3-1.cdninstagram.com&_nc_cat=104&_nc_ohc=yHZiLOgC9PQAX9QsOI1&edm=AABBvjUBAAAA&ccb=7-4&oh=afbe71df727f665452a6afebbc8c8464&oe=61B93C63&_nc_sid=83d603', 'profile_pic_id': '2602301717745216259_1953160348', 'is_verified': False, 'follow_friction_type': -1}, 'position': [0.061342593, 0.98796296], 'start_time_in_video_in_sec': None, 'duration_in_video_in_sec': None}, {'user': {'pk': 20315683209, 'username': 'realraw.nz', 'full_name': 'Real Raw | New Zealand', 'is_private': False, 'profile_pic_url': 'https://scontent-sjc3-1.cdninstagram.com/v/t51.2885-19/s150x150/122036446_1089212434829443_6741405870315773858_n.jpg?_nc_ht=scontent-sjc3-1.cdninstagram.com&_nc_cat=107&_nc_ohc=ZuBpnXkwTPkAX9HrKlE&tn=bWUa9bEh8DrV5C0W&edm=AABBvjUBAAAA&ccb=7-4&oh=3d561b9097dc41ea6a040938f2c18b74&oe=61B94251&_nc_sid=83d603', 'profile_pic_id': '2424740570601804674_20315683209', 'is_verified': False, 'follow_friction_type': -1}, 'position': [0.061342593, 0.98796296], 'start_time_in_video_in_sec': None, 'duration_in_video_in_sec': None}, {'user': {'pk': 20950854261, 'username': 'travelnewzealandwithme', 'full_name': 'Travel New Zealand With Me', 'is_private': False, 'profile_pic_url': 'https://scontent-sjc3-1.cdninstagram.com/v/t51.2885-19/s150x150/71191237_917138758673424_8930355933263953920_n.jpg?_nc_ht=scontent-sjc3-1.cdninstagram.com&_nc_cat=100&_nc_ohc=DxZHM5M8Tf0AX_SFKGa&tn=bWUa9bEh8DrV5C0W&edm=AABBvjUBAAAA&ccb=7-4&oh=5b6d4d36b52c467e4db2cf4902148b26&oe=61B85625&_nc_sid=83d603', 'profile_pic_id': '2138385933728600467_20950854261', 'is_verified': False, 'follow_friction_type': -1}, 'position': [0.061342593, 0.98796296], 'start_time_in_video_in_sec': None, 'duration_in_video_in_sec': None}]}, 'is_organic_product_tagging_eligible': False, 'can_see_insights_as_brand': False, 'caption': {'pk': 17879937629510247, 'user_id': 50929505892, 'text': 'On the first morning of the Kepler track we were treated to a spectacular sunrise over an inversion layer. The local Keas at Lismore hut also came to say hello.\\n.\\n- Canon 5D Mk iii\\n- 24-105mm F4.0L\\n- 1/4000 sec. f/5.6. iso 640.\\n.\\n#realrawnz\\xa0#outdoortones #nakedplanet #Nzmustdo #lightroom #beautifuldestinations #exploretocreate #welivetoexplore #theglobewanderer #roamtheplanet #awakethesoul #liveoutdoors #earthfocus #mybestintravel #hellofrom #artofvisuals #earthpix #moodygrams #creatingfromhome #travel #ourplanetdaily #moodygrams #canon_photos #liveforthestory', 'type': 1, 'created_at': 1639016439, 'created_at_utc': 1639016439, 'content_type': 'comment', 'status': 'Active', 'bit_flags': 0, 'did_report_as_spam': False, 'share_enabled': False, 'user': {'pk': 50929505892, 'username': 'mda.landscapes', 'full_name': '', 'is_private': False, 'profile_pic_url': 'https://scontent-sjc3-1.cdninstagram.com/v/t51.2885-19/s150x150/263489528_263507129148238_781369692810789341_n.jpg?_nc_ht=scontent-sjc3-1.cdninstagram.com&_nc_cat=110&_nc_ohc=2tMXW9EW5KcAX8JoeJO&edm=AABBvjUBAAAA&ccb=7-4&oh=3d4f5f162a28859a8f3702602d0f6358&oe=61B86472&_nc_sid=83d603', 'profile_pic_id': '2723236217502971894_50929505892', 'friendship_status': {'following': False, 'outgoing_request': False, 'is_bestie': False, 'is_restricted': False, 'is_feed_favorite': False}, 'is_verified': False, 'follow_friction_type': 0, 'has_anonymous_profile_picture': False, 'is_unpublished': False, 'is_favorite': False, 'latest_reel_media': 0, 'has_highlight_reels': False, 'account_badges': [], 'live_broadcast_id': None}, 'is_covered': False, 'media_id': 2724589828950505771, 'private_reply_status': 0}, 'can_viewer_save': True, 'organic_tracking_token': 'eyJ2ZXJzaW9uIjo1LCJwYXlsb2FkIjp7ImlzX2FuYWx5dGljc190cmFja2VkIjpmYWxzZSwidXVpZCI6IjNlYjYzM2Q0YzdlYjQyYjZiOTFkMDMyMzBlMTNlODRlMjcyNDU4OTgyODk1MDUwNTc3MSIsInNlcnZlcl90b2tlbiI6IjE2MzkwMTY0ODYwNTF8MjcyNDU4OTgyODk1MDUwNTc3MXw1MDU2NTQ0MDQ2NnwzNDRjYjVkM2Y0YmQ2MzRkZDM4ZTA2ZDQxYWM0YzlhNDljNDQ0Njc0NjU5Yzk2ZmIyZjEyN2YxOGZiZDU4ZDY1In0sInNpZ25hdHVyZSI6IiJ9', 'sharing_friction_info': {'should_have_sharing_friction': False, 'bloks_app_url': None}, 'product_type': 'feed', 'is_in_profile_grid': False, 'profile_grid_control_enabled': False, 'deleted_reason': 0, 'integrity_review_decision': 'pending', 'music_metadata': {'music_canonical_id': '0', 'audio_type': None, 'music_info': None, 'original_sound_info': None}}], 'num_results': 1, 'more_available': False, 'auto_load_more_enabled': False}\n"
     ]
    },
    {
     "ename": "KeyError",
     "evalue": "0",
     "output_type": "error",
     "traceback": [
      "\u001b[0;31m---------------------------------------------------------------------------\u001b[0m",
      "\u001b[0;31mKeyError\u001b[0m                                  Traceback (most recent call last)",
      "\u001b[0;32m<ipython-input-5-7111c368e965>\u001b[0m in \u001b[0;36m<module>\u001b[0;34m\u001b[0m\n\u001b[1;32m     88\u001b[0m \u001b[0;34m\u001b[0m\u001b[0m\n\u001b[1;32m     89\u001b[0m \u001b[0;31m# activity\u001b[0m\u001b[0;34m\u001b[0m\u001b[0;34m\u001b[0m\u001b[0;34m\u001b[0m\u001b[0m\n\u001b[0;32m---> 90\u001b[0;31m \u001b[0msession\u001b[0m\u001b[0;34m.\u001b[0m\u001b[0mlike_by_tags\u001b[0m\u001b[0;34m(\u001b[0m\u001b[0mmy_hashtags\u001b[0m\u001b[0;34m,\u001b[0m \u001b[0mamount\u001b[0m\u001b[0;34m=\u001b[0m\u001b[0;36m10\u001b[0m\u001b[0;34m,\u001b[0m \u001b[0mmedia\u001b[0m\u001b[0;34m=\u001b[0m\u001b[0;34m\"Photo\"\u001b[0m\u001b[0;34m)\u001b[0m\u001b[0;34m\u001b[0m\u001b[0;34m\u001b[0m\u001b[0m\n\u001b[0m",
      "\u001b[0;32m~/notebook/InstaPy/instapy/instapy.py\u001b[0m in \u001b[0;36mlike_by_tags\u001b[0;34m(self, tags, use_random_tags, amount, skip_top_posts, use_smart_hashtags, use_smart_location_hashtags, interact, randomize, media)\u001b[0m\n\u001b[1;32m   1985\u001b[0m                         \u001b[0mself\u001b[0m\u001b[0;34m.\u001b[0m\u001b[0mcheck_character_set\u001b[0m\u001b[0;34m,\u001b[0m\u001b[0;34m\u001b[0m\u001b[0;34m\u001b[0m\u001b[0m\n\u001b[1;32m   1986\u001b[0m                         \u001b[0mself\u001b[0m\u001b[0;34m.\u001b[0m\u001b[0mignore_if_contains\u001b[0m\u001b[0;34m,\u001b[0m\u001b[0;34m\u001b[0m\u001b[0;34m\u001b[0m\u001b[0m\n\u001b[0;32m-> 1987\u001b[0;31m                         \u001b[0mself\u001b[0m\u001b[0;34m.\u001b[0m\u001b[0mlogger\u001b[0m\u001b[0;34m,\u001b[0m\u001b[0;34m\u001b[0m\u001b[0;34m\u001b[0m\u001b[0m\n\u001b[0m\u001b[1;32m   1988\u001b[0m                     )\n\u001b[1;32m   1989\u001b[0m \u001b[0;34m\u001b[0m\u001b[0m\n",
      "\u001b[0;32m~/notebook/InstaPy/instapy/like_util.py\u001b[0m in \u001b[0;36mcheck_link\u001b[0;34m(browser, post_link, dont_like, mandatory_words, mandatory_language, mandatory_character, is_mandatory_character, check_character_set, ignore_if_contains, logger)\u001b[0m\n\u001b[1;32m    616\u001b[0m     \u001b[0;32melse\u001b[0m\u001b[0;34m:\u001b[0m\u001b[0;34m\u001b[0m\u001b[0;34m\u001b[0m\u001b[0m\n\u001b[1;32m    617\u001b[0m         \u001b[0mlogger\u001b[0m\u001b[0;34m.\u001b[0m\u001b[0minfo\u001b[0m\u001b[0;34m(\u001b[0m\u001b[0;34m\"post_page: {}\"\u001b[0m\u001b[0;34m.\u001b[0m\u001b[0mformat\u001b[0m\u001b[0;34m(\u001b[0m\u001b[0mpost_page\u001b[0m\u001b[0;34m)\u001b[0m\u001b[0;34m)\u001b[0m\u001b[0;34m\u001b[0m\u001b[0;34m\u001b[0m\u001b[0m\n\u001b[0;32m--> 618\u001b[0;31m         \u001b[0mmedia\u001b[0m \u001b[0;34m=\u001b[0m \u001b[0mpost_page\u001b[0m\u001b[0;34m[\u001b[0m\u001b[0;36m0\u001b[0m\u001b[0;34m]\u001b[0m\u001b[0;34m[\u001b[0m\u001b[0;34m\"shortcode_media\"\u001b[0m\u001b[0;34m]\u001b[0m\u001b[0;34m\u001b[0m\u001b[0;34m\u001b[0m\u001b[0m\n\u001b[0m\u001b[1;32m    619\u001b[0m         \u001b[0mis_video\u001b[0m \u001b[0;34m=\u001b[0m \u001b[0mmedia\u001b[0m\u001b[0;34m[\u001b[0m\u001b[0;34m\"is_video\"\u001b[0m\u001b[0;34m]\u001b[0m\u001b[0;34m\u001b[0m\u001b[0;34m\u001b[0m\u001b[0m\n\u001b[1;32m    620\u001b[0m         \u001b[0muser_name\u001b[0m \u001b[0;34m=\u001b[0m \u001b[0mmedia\u001b[0m\u001b[0;34m[\u001b[0m\u001b[0;34m\"owner\"\u001b[0m\u001b[0;34m]\u001b[0m\u001b[0;34m[\u001b[0m\u001b[0;34m\"username\"\u001b[0m\u001b[0;34m]\u001b[0m\u001b[0;34m\u001b[0m\u001b[0;34m\u001b[0m\u001b[0m\n",
      "\u001b[0;31mKeyError\u001b[0m: 0"
     ]
    }
   ],
   "source": [
    "hashtags = ['travelcouples', 'travelcommunity', 'passionpassport',\n",
    "                'travelingcouple',\n",
    "                'backpackerlife', 'travelguide', 'travelbloggers',\n",
    "                'travelblog', 'letsgoeverywhere',\n",
    "                'travelislife', 'stayandwander', 'beautifuldestinations',\n",
    "                'moodygrams',\n",
    "                'ourplanetdaily', 'travelyoga', 'travelgram', 'sunsetporn',\n",
    "                'lonelyplanet',\n",
    "                'igtravel', 'instapassport', 'travelling', 'instatraveling',\n",
    "                'travelingram',\n",
    "                'mytravelgram', 'skyporn', 'traveler', 'sunrise',\n",
    "                'sunsetlovers', 'travelblog',\n",
    "                'sunset_pics', 'visiting', 'ilovetravel',\n",
    "                'photographyoftheday', 'sunsetphotography',\n",
    "                'explorenature', 'landscapeporn', 'exploring_shotz',\n",
    "                'landscapehunter', 'colors_of_day',\n",
    "                'earthfocus', 'ig_shotz', 'ig_nature', 'discoverearth',\n",
    "                'thegreatoutdoors',\"life\",\"#写真好きな人と繋がりたい\"]\n",
    "\n",
    "random.shuffle(hashtags)\n",
    "my_hashtags = hashtags[:10]\n",
    "\n",
    "# general settings\n",
    "session.set_dont_like(['sad', 'rain', 'depression'])\n",
    "session.set_do_follow(enabled=True, percentage=50, times=1)\n",
    "session.set_do_comment(enabled=True, percentage=60)\n",
    "session.set_comments([\n",
    "                         u'Amazing!!',\n",
    "                         u'Awesome photo! 😎'\n",
    "                         u'What an amazing shot! :heart_eyes: What do '\n",
    "                         u'you think of my recent shot?',\n",
    "                         u'Wonderful!! :heart_eyes: Would be awesome if '\n",
    "                         u'you would checkout my photos as well!',\n",
    "                         u'Wonderful!! :heart_eyes: I would be honored '\n",
    "                         u'if you would checkout my images and tell me '\n",
    "                         u'what you think. :wink:',\n",
    "                         u'Nice shot! Feel free to take a look at my recent shots. 😊',\n",
    "                         u'This is awesome!! :heart_eyes: Any feedback '\n",
    "                         u'for my photos? :wink:',\n",
    "                         u'This is awesome!! :heart_eyes:  maybe you '\n",
    "                         u'like my photos, too? :wink:',\n",
    "                         u'I really like the way you captured this. I '\n",
    "                         u'bet you like my photos, too :wink:',\n",
    "                         u'Great capture!! :smiley: Any feedback for my '\n",
    "                         u'recent shot? :wink:',\n",
    "                         u'Great capture!! :smiley: :thumbsup:',\n",
    "                         u\"What camera did you use?\"],\n",
    "                     media='Photo')\n",
    "session.set_do_like(True, percentage=70)\n",
    "session.set_delimit_liking(enabled=True, max_likes=100, min_likes=0)\n",
    "session.set_delimit_commenting(enabled=True, max_comments=20, min_comments=0)\n",
    "session.set_dont_unfollow_active_users(enabled=True, posts=5)\n",
    "session.set_relationship_bounds(enabled=True,\n",
    "                                potency_ratio=None,\n",
    "                                delimit_by_numbers=True,\n",
    "                                max_followers=3000,\n",
    "                                max_following=2000,\n",
    "                                min_followers=50,\n",
    "                                min_following=50)\n",
    "\n",
    "session.set_quota_supervisor(enabled=True,\n",
    "                             sleep_after=[\"likes\", \"follows\",\"unfollows\"],\n",
    "                             sleepyhead=True, stochastic_flow=True,\n",
    "                             notify_me=True,\n",
    "                             peak_likes_hourly=200,\n",
    "                             peak_likes_daily=585,\n",
    "                             peak_comments_hourly=80,\n",
    "                             peak_comments_daily=182,\n",
    "                             peak_follows_hourly=10,\n",
    "                             peak_follows_daily=20,\n",
    "                             peak_unfollows_hourly=150,\n",
    "                             peak_unfollows_daily=402,\n",
    "                             peak_server_calls_hourly=None,\n",
    "                             peak_server_calls_daily=3000)\n",
    "\n",
    "#     session.set_quota_supervisor(enabled=True,\n",
    "#                                  sleep_after=[\"likes\", \"follows\", \"server_calls\", \"unfollows\"],\n",
    "#                                  sleepyhead=True, stochastic_flow=True,\n",
    "#                                  notify_me=True,\n",
    "#                                  peak_likes=(80, 300),\n",
    "#                                  peak_comments=(21, 250),\n",
    "#                                  peak_follows=(40, 300),\n",
    "#                                  peak_unfollows=(40, 300),\n",
    "#                                  peak_server_calls=(500, None))\n",
    "\n",
    "\n",
    "# session.set_user_interact(amount=10, randomize=True, percentage=80)\n",
    "\n",
    "# activity\n",
    "session.like_by_tags(my_hashtags, amount=10, media=\"Photo\")"
   ]
  },
  {
   "cell_type": "code",
   "execution_count": 10,
   "id": "6631e9f0",
   "metadata": {
    "collapsed": true,
    "jupyter": {
     "outputs_hidden": true
    }
   },
   "outputs": [
    {
     "name": "stderr",
     "output_type": "stream",
     "text": [
      "INFO [2021-12-07 00:15:07] [ken_c_c_photography]  Starting to unfollow users..\n"
     ]
    },
    {
     "name": "stdout",
     "output_type": "stream",
     "text": [
      "______________________________________________________________________________\n",
      "\"\"\"\"\"\"\"\"\"\"\"\"\"\"\"\"\"\"\"\"\"\"\"\"\"\"\"\"\"\"\"\"\"\"\"\"\"\"\"\"\"\"\"\"\"\"\"\"\"\"\"\"\"\"\"\"\"\"\"\"\"\"\"\"\"\"\"\"\"\"\"\"\"\"\"\"\"\"\n"
     ]
    },
    {
     "name": "stderr",
     "output_type": "stream",
     "text": [
      "INFO [2021-12-07 00:15:10] [ken_c_c_photography]  Unfollowing the users who do not follow back\n",
      "\n",
      "INFO [2021-12-07 00:15:10] [ken_c_c_photography]  Retrieving fresh `Followers` data of ken_c_c_photography at \"full\" range\n"
     ]
    },
    {
     "name": "stdout",
     "output_type": "stream",
     "text": [
      "  40/458 [==+---------------------------------]  8% |> Elapsed: 0.02 seconds         |> ETA: 0.24 seconds         "
     ]
    },
    {
     "name": "stderr",
     "output_type": "stream",
     "text": [
      "INFO [2021-12-07 00:15:13] [ken_c_c_photography]  Grabbed 0 new usernames from `Followers` in 0.02 seconds  ~total of 458 usernames\n",
      "INFO [2021-12-07 00:15:13] [ken_c_c_photography]  The `Followers` data is identical with the data in previous query  ~not storing the file again\n",
      "INFO [2021-12-07 00:15:13] [ken_c_c_photography]  Zz :[ time to take a good nap  ~sleeping 0.0 seconds\n",
      "INFO [2021-12-07 00:15:13] [ken_c_c_photography]  Yawn :] let's go!\n",
      "\n",
      "INFO [2021-12-07 00:15:13] [ken_c_c_photography]  Retrieving fresh `Following` data of ken_c_c_photography at \"full\" range\n"
     ]
    },
    {
     "name": "stdout",
     "output_type": "stream",
     "text": [
      "\n",
      "\n",
      "  50/1035 [=+----------------------------------]  4% |> Elapsed: 0.02 seconds         |> ETA: 0.55 seconds         "
     ]
    },
    {
     "name": "stderr",
     "output_type": "stream",
     "text": [
      "INFO [2021-12-07 00:15:19] [ken_c_c_photography]  Grabbed 0 new usernames from `Following` in 0.02 seconds  ~total of 1035 usernames\n",
      "INFO [2021-12-07 00:15:19] [ken_c_c_photography]  The `Following` data is identical with the data in previous query  ~not storing the file again\n",
      "INFO [2021-12-07 00:15:19] [ken_c_c_photography]  Zz :[ time to take a good nap  ~sleeping 0.0 seconds\n",
      "INFO [2021-12-07 00:15:19] [ken_c_c_photography]  Yawn :] let's go!\n",
      "\n",
      "INFO [2021-12-07 00:15:19] [ken_c_c_photography]  There are 909 Nonfollowers of ken_c_c_photography  ~the users ken_c_c_photography is following WHO do not follow back\n",
      "\n",
      "INFO [2021-12-07 00:15:19] [ken_c_c_photography]  Stored Nonfollowers data at /home/ken/InstaPy/logs/ken_c_c_photography//relationship_data/ken_c_c_photography/nonfollowers/07-12-2021~[458-1035]~909.json local file\n",
      "\n",
      "INFO [2021-12-07 00:15:19] [ken_c_c_photography]  Total 886 users available to unfollow  ~not found in 'followedPool.csv': 886  |  didn't pass `unfollow_after`: 23\n",
      "\n",
      "INFO [2021-12-07 00:15:19] [ken_c_c_photography]  Ongoing Unfollow [1/1]: now unfollowing 'b'cyet_''...\n"
     ]
    },
    {
     "name": "stdout",
     "output_type": "stream",
     "text": [
      "\n",
      "\n"
     ]
    },
    {
     "name": "stderr",
     "output_type": "stream",
     "text": [
      "INFO [2021-12-07 00:15:56] [ken_c_c_photography]  Last unfollow is verified after reloading the page!\n",
      "INFO [2021-12-07 00:15:56] [ken_c_c_photography]  --> Unfollowed 'cyet_'!\n",
      "WARNING [2021-12-07 00:16:09] [ken_c_c_photography]  --> Total unfollows reached it's amount given 1\n",
      "\n",
      "INFO [2021-12-07 00:16:09] [ken_c_c_photography]  --> Total people unfollowed : 1\n",
      "\n"
     ]
    },
    {
     "data": {
      "text/plain": [
       "<instapy.instapy.InstaPy at 0x7f43bf3a8590>"
      ]
     },
     "execution_count": 10,
     "metadata": {},
     "output_type": "execute_result"
    }
   ],
   "source": [
    "session.unfollow_users(amount=1, nonFollowers=True, style=\"RANDOM\", unfollow_after=42*60*60, sleep_delay=655)"
   ]
  },
  {
   "cell_type": "code",
   "execution_count": 8,
   "id": "cea87826",
   "metadata": {},
   "outputs": [
    {
     "data": {
      "text/plain": [
       "True"
      ]
     },
     "execution_count": 8,
     "metadata": {},
     "output_type": "execute_result"
    }
   ],
   "source": [
    "session.browser.save_screenshot(\"test.png\")"
   ]
  },
  {
   "cell_type": "code",
   "execution_count": 7,
   "id": "b7b2d1c2",
   "metadata": {},
   "outputs": [
    {
     "data": {
      "text/plain": [
       "'https://www.instagram.com/p/CXPsAORPLkr/'"
      ]
     },
     "execution_count": 7,
     "metadata": {},
     "output_type": "execute_result"
    }
   ],
   "source": [
    "session.browser.current_url"
   ]
  },
  {
   "cell_type": "code",
   "execution_count": null,
   "id": "b36c61b7",
   "metadata": {},
   "outputs": [],
   "source": []
  }
 ],
 "metadata": {
  "kernelspec": {
   "display_name": "Python 3 (ipykernel)",
   "language": "python",
   "name": "python3"
  },
  "language_info": {
   "codemirror_mode": {
    "name": "ipython",
    "version": 3
   },
   "file_extension": ".py",
   "mimetype": "text/x-python",
   "name": "python",
   "nbconvert_exporter": "python",
   "pygments_lexer": "ipython3",
   "version": "3.9.7"
  }
 },
 "nbformat": 4,
 "nbformat_minor": 5
}
